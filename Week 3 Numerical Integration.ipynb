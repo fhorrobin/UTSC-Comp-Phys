{
 "cells": [
  {
   "cell_type": "code",
   "execution_count": 1,
   "metadata": {
    "collapsed": true
   },
   "outputs": [],
   "source": [
    "# Import required packages as usual\n",
    "import numpy as np\n",
    "import matplotlib.pyplot as plt\n",
    "from scipy import optimize\n",
    "%matplotlib inline"
   ]
  },
  {
   "cell_type": "markdown",
   "metadata": {},
   "source": [
    "# Simulating Projectile Motion (With numerical integration)"
   ]
  },
  {
   "cell_type": "markdown",
   "metadata": {},
   "source": [
    "Consider a particle launched at a certain speed. We will for now consider only force as being gravity (g in -y direction).\n",
    "\n",
    "Recall from your physics course that:\n",
    "\n",
    "$$ \\frac{dx}{dt} = \\dot x = v $$\n",
    "$$ \\frac{dv}{dt} = \\dot v = \\ddot x = a$$\n",
    "\n",
    "Then:\n",
    "\n",
    "$$ \\int dv = \\int a dt$$\n",
    "$$ v = at$$\n",
    "\n",
    "Or, moreprecisely, for some finite time:\n",
    "$$ \\Delta v = a \\Delta t$$\n",
    "\n",
    "Similarily (assuming a time independent v)\n",
    "$$ \\int dx = \\int v dt$$\n",
    "$$ x = vt$$\n",
    "\n",
    "Or for finite time:\n",
    "$$ \\Delta x = v \\Delta t$$\n",
    "\n",
    "For a small enough $\\Delta t$ approximating the velocity and acceleration as time independent is a valid assumption to make. This is called numerical integration. Instead of analytically finding a solution, we integrate or sum over finite linear areas. As $\\Delta t \\to 0$ we get good results.\n",
    "\n",
    "First we will solve for $v$ and then plug in the value to solve for $x$."
   ]
  },
  {
   "cell_type": "markdown",
   "metadata": {},
   "source": [
    "## How do we solve this? We use an integration algorithm (Eulers Method this Week)\n",
    "\n",
    "The simplest one is the Euler method. You may have heard of this before in calculus. We will apply it first since it is simple. Later we will look at other, better methods (Leapfrog/Midpoint)."
   ]
  },
  {
   "cell_type": "markdown",
   "metadata": {},
   "source": [
    "The Euler Method goes like this:\n",
    "\n",
    "$$\\bar x_{n+1} = \\bar x_n + \\bar v\\Delta t$$\n",
    "$$\\bar v_{n+1} = \\bar v_n + \\bar a\\Delta t$$\n",
    "\n",
    "We solve those two equations in sequence over and over. We will use a loop to do this. Since each furture calculation requires a previous one, we need to supply initial conditions. These will be ($v_x$, $v_y$), ($x$,$y$) (We are doing this in 2D but this can be generalized to 3D).\n",
    "\n",
    "Exapanding the vector form for each component we get the system of equations:\n",
    "\n",
    "$$ x_{n+1} = x_n + v_x\\Delta t$$\n",
    "$$ y_{n+1} = y_n + v_y\\Delta t$$\n",
    "\n",
    "$$ v_{x(n+1)} = v_{xn} + a_x\\Delta t$$\n",
    "$$ v_{y(n+1)} = v_{yn} + a_y\\Delta t$$\n",
    "\n",
    "We will implement an algorithm to solve these in Python."
   ]
  },
  {
   "cell_type": "code",
   "execution_count": 18,
   "metadata": {
    "collapsed": true
   },
   "outputs": [],
   "source": [
    "def integrate(x, v, dt):\n",
    "    \"\"\"\n",
    "    x is the position vector and v is the velocity vector.\n",
    "    Integrate one timestep. We also give the timestep to use.\n",
    "    \n",
    "    x = x[0]\n",
    "    y = x[1]\n",
    "    \n",
    "    vx = v[0]\n",
    "    vy = v[1]\n",
    "    \"\"\"\n",
    "    # Define a = [ax, ay]\n",
    "    a = [0., -9.8]\n",
    "    \n",
    "    # Now push position (this is usually called push step)\n",
    "    x[0] = x[0] + v[0]*dt\n",
    "    x[1] = x[1] + v[1]*dt\n",
    "    \n",
    "    # Push velocity (this is usually called kick step)\n",
    "    v[0] = v[0] + a[0]*dt\n",
    "    v[1] = v[1] + a[1]*dt\n",
    "    "
   ]
  },
  {
   "cell_type": "markdown",
   "metadata": {},
   "source": [
    "That's all we need to integrate forward one timestep. Rememeber that lists or arrays are mutable so we return nothing (none).\n",
    "\n",
    "Now let's write a function to call this and collect data for plotting."
   ]
  },
  {
   "cell_type": "code",
   "execution_count": 19,
   "metadata": {
    "collapsed": true
   },
   "outputs": [],
   "source": [
    "def calc_trajectory(vi, theta):\n",
    "    \"\"\"\n",
    "    Given initial v and theta (in degrees) (assume (x,y) = (0,0)), integrate and return\n",
    "    the values for x, y,vx,vy at each time as np array.\n",
    "    \"\"\"\n",
    "    # Initialize x and v vectors\n",
    "    x = [0., 0.]\n",
    "    v = [vi*np.cos(np.radians(theta)), vi*np.sin(np.radians(theta))]\n",
    "    \n",
    "    # Decalare timestep\n",
    "    dt = 0.01\n",
    "    \n",
    "    # Lists to store data for plotting. Stores initial conditions to start.\n",
    "    x_dat = [x[0]]\n",
    "    y_dat = [x[1]]\n",
    "    vx_dat = [v[0]]\n",
    "    vy_dat = [v[1]]\n",
    "    t = [0.]\n",
    "    \n",
    "    # Integrate while the y position is positive (ie stop once we become negative)\n",
    "    while x[1] >= 0:\n",
    "        integrate(x, v, dt)\n",
    "        \n",
    "        # Save to data array\n",
    "        x_dat.append(x[0])\n",
    "        y_dat.append(x[1])\n",
    "        vx_dat.append(v[0])\n",
    "        vy_dat.append(v[1])\n",
    "        t.append(t[-1] + dt)\n",
    "        \n",
    "    # Convert to np array and return\n",
    "    x_dat = np.array(x_dat)\n",
    "    y_dat = np.array(y_dat)\n",
    "    vx_dat = np.array(vx_dat)\n",
    "    vy_dat = np.array(vy_dat)\n",
    "    t = np.array(t)\n",
    "    \n",
    "    return x_dat, y_dat, vx_dat, vy_dat, t"
   ]
  },
  {
   "cell_type": "code",
   "execution_count": 20,
   "metadata": {
    "collapsed": true
   },
   "outputs": [],
   "source": [
    "# Now call the function in our code\n",
    "x, y, vx, vy, t = calc_trajectory(10, 30)"
   ]
  },
  {
   "cell_type": "markdown",
   "metadata": {},
   "source": [
    "Now that we have the data saved from the function, let's output some plots of it. Then we can see the effect of different timesteps on the motion.  "
   ]
  },
  {
   "cell_type": "markdown",
   "metadata": {},
   "source": [
    "First, let's plot the time vs y position and the y velocity vs time. We should know what to expect from basic physics."
   ]
  },
  {
   "cell_type": "code",
   "execution_count": 21,
   "metadata": {},
   "outputs": [
    {
     "name": "stdout",
     "output_type": "stream",
     "text": [
      "y = -4.9000 x^2 + 5.0490 x + -0.0000\n"
     ]
    },
    {
     "data": {
      "image/png": "[encoded data removed]",
      "text/plain": [
       "<matplotlib.figure.Figure at 0x10837a3c8>"
      ]
     },
     "metadata": {},
     "output_type": "display_data"
    }
   ],
   "source": [
    "def fit_para(p, x):\n",
    "    return p[0]*x**2 + p[1]*x + p[2]\n",
    "\n",
    "def errfunc(p, x, y):\n",
    "    return fit_para(p, x) - y\n",
    "\n",
    "p0 = [1., 1., 1.]\n",
    "\n",
    "p1, success = optimize.leastsq(errfunc, p0[:], args=(t, y))\n",
    "\n",
    "fig, (ax1, ax2) = plt.subplots(1,2, figsize=[15, 6])\n",
    "ax1.set_title(\"t vs y\")\n",
    "ax2.set_title(\"$v_y$ vs t\")\n",
    "\n",
    "ax1.set_xlabel(\"t\")\n",
    "ax1.set_ylabel(\"y\")\n",
    "ax2.set_xlabel(\"t\")\n",
    "ax2.set_ylabel(\"$v_y$\")\n",
    "\n",
    "ax1.scatter(t, y)\n",
    "ax2.scatter(t, vy)\n",
    "ax1.set_ylim(0)\n",
    "\n",
    "ax1.plot(t, fit_para(p1, t), 'k-')\n",
    "\n",
    "# Show the fit parameters\n",
    "print(\"y = %.4f x^2 + %.4f x + %.4f\" % (p1[0], p1[1], p1[2]))"
   ]
  },
  {
   "cell_type": "markdown",
   "metadata": {},
   "source": [
    "Notice the form of the fit:\n",
    "\n",
    "$$y = \\frac{1}{2} a t^2 + v_{yo} t + y_o $$\n",
    "\n",
    "$$y = \\frac{-g}{2}t^2 + v_i sin(\\theta) t + 0 $$ \n",
    "\n",
    "$$y = -4.9 t^2 + 5.0 t$$ \n",
    "\n",
    "So we actually derived exactly what we expect analytically. This is no surprise. We essentially imitated how newton might have graphically derived some of his equations of motion, though he did not have a computer."
   ]
  },
  {
   "cell_type": "code",
   "execution_count": 22,
   "metadata": {},
   "outputs": [
    {
     "data": {
      "text/plain": [
       "((-4.9, 4.9999999999999991), (-4.9000000036479827, 5.0490000045153165))"
      ]
     },
     "execution_count": 22,
     "metadata": {},
     "output_type": "execute_result"
    }
   ],
   "source": [
    "# Check values compared to expected\n",
    "(-9.8/2, 10*np.sin(np.radians(30))), (p1[0], p1[1])"
   ]
  },
  {
   "cell_type": "markdown",
   "metadata": {},
   "source": [
    "We can see the values are very similar. Try making dt smaller. The values will then improve (though the algorithm will run slower). We will see how we can adjust this to make the error even smaller next time."
   ]
  }
 ],
 "metadata": {
  "kernelspec": {
   "display_name": "Python 3",
   "language": "python",
   "name": "python3"
  },
  "language_info": {
   "codemirror_mode": {
    "name": "ipython",
    "version": 3
   },
   "file_extension": ".py",
   "mimetype": "text/x-python",
   "name": "python",
   "nbconvert_exporter": "python",
   "pygments_lexer": "ipython3",
   "version": "3.6.2"
  }
 },
 "nbformat": 4,
 "nbformat_minor": 2
}
